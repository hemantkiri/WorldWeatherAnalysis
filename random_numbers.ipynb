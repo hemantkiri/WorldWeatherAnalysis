{
 "cells": [
  {
   "cell_type": "code",
   "execution_count": 1,
   "id": "b335de71",
   "metadata": {},
   "outputs": [],
   "source": [
    "# Import the random module. (6.4.1)\n",
    "import random\n"
   ]
  },
  {
   "cell_type": "code",
   "execution_count": 2,
   "id": "3b3ae5fa",
   "metadata": {},
   "outputs": [
    {
     "data": {
      "text/plain": [
       "-44"
      ]
     },
     "execution_count": 2,
     "metadata": {},
     "output_type": "execute_result"
    }
   ],
   "source": [
    "#(6.4.1)\n",
    "random.randint(-90, 90)\n"
   ]
  },
  {
   "cell_type": "code",
   "execution_count": 5,
   "id": "dae043fd",
   "metadata": {},
   "outputs": [
    {
     "data": {
      "text/plain": [
       "0.5293213409891527"
      ]
     },
     "execution_count": 5,
     "metadata": {},
     "output_type": "execute_result"
    }
   ],
   "source": [
    "#(6.4.1)\n",
    "random.random()\n"
   ]
  },
  {
   "cell_type": "code",
   "execution_count": 6,
   "id": "3b39bc1f",
   "metadata": {},
   "outputs": [
    {
     "data": {
      "text/plain": [
       "23.47895324051779"
      ]
     },
     "execution_count": 6,
     "metadata": {},
     "output_type": "execute_result"
    }
   ],
   "source": [
    "# (6.4.1)\n",
    "random_number = random.randint(-90, 89) + random.random()\n",
    "random_number\n"
   ]
  },
  {
   "cell_type": "code",
   "execution_count": 8,
   "id": "66ce6994",
   "metadata": {},
   "outputs": [
    {
     "data": {
      "text/plain": [
       "[68.08528796915418,\n",
       " 41.275955357604765,\n",
       " -74.12312918810899,\n",
       " -52.461394168529374,\n",
       " 48.585211203321386,\n",
       " -17.65410094935575,\n",
       " 83.0029287990876,\n",
       " -53.69522690690481,\n",
       " 73.81920821054744,\n",
       " 87.81832718455624]"
      ]
     },
     "execution_count": 8,
     "metadata": {},
     "output_type": "execute_result"
    }
   ],
   "source": [
    "#(6.4.1)\n",
    "x = 1\n",
    "latitudes = []\n",
    "while x < 11:\n",
    "    random_lat = random.randint(-90, 89) + random.random()\n",
    "    latitudes.append(random_lat)\n",
    "    x += 1\n",
    "latitudes\n"
   ]
  },
  {
   "cell_type": "code",
   "execution_count": 9,
   "id": "d30b3eff",
   "metadata": {},
   "outputs": [
    {
     "data": {
      "text/plain": [
       "78"
      ]
     },
     "execution_count": 9,
     "metadata": {},
     "output_type": "execute_result"
    }
   ],
   "source": [
    "#(6.4.1)\n",
    "random.randrange(-90, 90, step=1)\n"
   ]
  },
  {
   "cell_type": "code",
   "execution_count": 10,
   "id": "09b83d22",
   "metadata": {},
   "outputs": [
    {
     "data": {
      "text/plain": [
       "-90"
      ]
     },
     "execution_count": 10,
     "metadata": {},
     "output_type": "execute_result"
    }
   ],
   "source": [
    "# (6.4.1)\n",
    "random.randrange(-90, 90, step=3)\n"
   ]
  },
  {
   "cell_type": "code",
   "execution_count": 11,
   "id": "db62f556",
   "metadata": {},
   "outputs": [
    {
     "data": {
      "text/plain": [
       "11.24494442018711"
      ]
     },
     "execution_count": 11,
     "metadata": {},
     "output_type": "execute_result"
    }
   ],
   "source": [
    "#(6.4.1)\n",
    "random.uniform(-90, 90)\n"
   ]
  },
  {
   "cell_type": "code",
   "execution_count": 12,
   "id": "83c8aedc",
   "metadata": {},
   "outputs": [],
   "source": [
    "# (6.4.1)\n",
    "# Import the NumPy module.\n",
    "import numpy as np\n"
   ]
  },
  {
   "cell_type": "code",
   "execution_count": 13,
   "id": "1b9723f8",
   "metadata": {},
   "outputs": [
    {
     "data": {
      "text/plain": [
       "-27.319393138580146"
      ]
     },
     "execution_count": 13,
     "metadata": {},
     "output_type": "execute_result"
    }
   ],
   "source": [
    "#(6.4.1)\n",
    "np.random.uniform(-90.000, 90.000)\n"
   ]
  },
  {
   "cell_type": "code",
   "execution_count": 14,
   "id": "4e0a6074",
   "metadata": {},
   "outputs": [
    {
     "data": {
      "text/plain": [
       "42.9229235596421"
      ]
     },
     "execution_count": 14,
     "metadata": {},
     "output_type": "execute_result"
    }
   ],
   "source": [
    "# (6.4.1)\n",
    "np.random.uniform(low=-90, high=90)\n"
   ]
  },
  {
   "cell_type": "code",
   "execution_count": 16,
   "id": "cd262078",
   "metadata": {},
   "outputs": [
    {
     "data": {
      "text/plain": [
       "array([ 11.36384221,  -3.73920976,  82.74604713,  38.49178056,\n",
       "        84.02071102,  76.50455187,  19.75457776, -57.34069066,\n",
       "        25.54103548,  19.82341109, -16.33689821,  -8.12056055,\n",
       "       -15.33182608, -10.60470953,   6.06481436,  40.91389174,\n",
       "        74.15268701, -57.16436979,  10.24089555,  40.69108982,\n",
       "       -32.69986143, -86.6433263 ,  -4.33225727, -63.06124878,\n",
       "        36.58949533, -48.23165624,   8.72418105, -65.79360173,\n",
       "       -41.35896311, -62.27040899,  24.1406086 , -32.28674476,\n",
       "        69.39709928,  24.1755703 , -27.06050673,  -5.99637984,\n",
       "        10.58710679, -62.22676858, -24.84777615,  -1.68348095,\n",
       "       -32.1276922 ,  34.36659273, -71.59830601, -18.48203727,\n",
       "       -82.84961195,  39.59269063,   9.56435896,  80.03011418,\n",
       "       -26.08792053, -54.11735409])"
      ]
     },
     "execution_count": 16,
     "metadata": {},
     "output_type": "execute_result"
    }
   ],
   "source": [
    "#(6.4.1)\n",
    "np.random.uniform(-90.000, 90.000, size=50)\n"
   ]
  },
  {
   "cell_type": "code",
   "execution_count": 17,
   "id": "3e14e117",
   "metadata": {},
   "outputs": [],
   "source": [
    "# (6.4.1)\n",
    "# Import timeit.\n",
    "import timeit\n"
   ]
  },
  {
   "cell_type": "code",
   "execution_count": 18,
   "id": "3056c9df",
   "metadata": {},
   "outputs": [
    {
     "name": "stdout",
     "output_type": "stream",
     "text": [
      "11.8 µs ± 633 ns per loop (mean ± std. dev. of 7 runs, 100000 loops each)\n"
     ]
    }
   ],
   "source": [
    "# (6.4.1)\n",
    "%timeit np.random.uniform(-90.000, 90.000, size=1500)\n"
   ]
  },
  {
   "cell_type": "code",
   "execution_count": 19,
   "id": "b6ec12c4",
   "metadata": {},
   "outputs": [
    {
     "name": "stdout",
     "output_type": "stream",
     "text": [
      "1.22 ms ± 24.4 µs per loop (mean ± std. dev. of 7 runs, 1000 loops each)\n"
     ]
    }
   ],
   "source": [
    "#(6.4.1)\n",
    "def latitudes(size):\n",
    "    latitudes = []\n",
    "    x = 0\n",
    "    while x < (size):\n",
    "        random_lat = random.randint(-90, 90) + random.random()\n",
    "        latitudes.append(random_lat)\n",
    "        x += 1\n",
    "    return latitudes\n",
    "# Call the function with 1500.\n",
    "%timeit latitudes(1500)\n"
   ]
  },
  {
   "cell_type": "code",
   "execution_count": 20,
   "id": "2f25b6a1",
   "metadata": {},
   "outputs": [
    {
     "name": "stdout",
     "output_type": "stream",
     "text": [
      "1.26 ms ± 43.1 µs per loop (mean ± std. dev. of 7 runs, 1000 loops each)\n"
     ]
    }
   ],
   "source": [
    "#(6.1.4 SD)\n",
    "def latitudes_for_loop(size):\n",
    "    latitudes = []\n",
    "    for x in range(0,size):\n",
    "        random_lat = random.randint(-90, 90) + random.random()\n",
    "        latitudes.append(random_lat)\n",
    "    return latitudes\n",
    "# Call the function with 1500.\n",
    "%timeit latitudes_for_loop(1500)\n"
   ]
  },
  {
   "cell_type": "code",
   "execution_count": null,
   "id": "5003ca79",
   "metadata": {},
   "outputs": [],
   "source": []
  }
 ],
 "metadata": {
  "kernelspec": {
   "display_name": "PythonData",
   "language": "python",
   "name": "pythondata"
  },
  "language_info": {
   "codemirror_mode": {
    "name": "ipython",
    "version": 3
   },
   "file_extension": ".py",
   "mimetype": "text/x-python",
   "name": "python",
   "nbconvert_exporter": "python",
   "pygments_lexer": "ipython3",
   "version": "3.9.7"
  }
 },
 "nbformat": 4,
 "nbformat_minor": 5
}
